{
 "cells": [
  {
   "cell_type": "markdown",
   "metadata": {},
   "source": [
    "# <center> XRD_analysis_packages </center>\n",
    "\n",
    "<center>By Han Meng</center>"
   ]
  },
  {
   "cell_type": "markdown",
   "metadata": {},
   "source": [
    "<img src=\"https://upload.wikimedia.org/wikipedia/commons/thumb/7/73/X_ray_diffraction.png/1024px-X_ray_diffraction.png\" width=\"50%\">\n",
    "\n",
    "Image from: https://upload.wikimedia.org/wikipedia/commons/thumb/7/73/X_ray_diffraction.png/1024px-X_ray_diffraction.png"
   ]
  },
  {
   "cell_type": "markdown",
   "metadata": {},
   "source": [
    "---\n",
    "# Overview\n",
    "\n",
    "XRD (X-ray diffraction) is a technique that is widely used to study the properties of materials.\n",
    "\n",
    "X-ray are photons (light) with wavelength in the range from 10 picometers to 10 nanometers. When X-ray goes into materials, it will interact with atoms (atomic nucleus and electrons). And by collecting and analyzing spectroscopy after this interaction, we could obtain information about the atoms like chemical composition, chemical bonding, crystal structure and surface environment.\n",
    "\n",
    "For example, chemical composition can be known from the Characteristic spectrum because different elements have unlike electronic band structure, which will results in diverse X-ray absorption and spectrum.\n",
    "\n",
    "Another example is characterization of the structure of crystalline solid. In crystal, atoms (or molecules and ions) are arranged in a highly ordered manner and repeat units called unit cell will be formed. One unit cell usually has less than 5 atoms and the whole crystalline solid is composed of repeated unit cells extending in all directions. This will result in a long-range order which we difined as crystal lattice. Different materials have different crystal lattice and will lead to different X-ray diffraction pattern."
   ]
  },
  {
   "cell_type": "markdown",
   "metadata": {},
   "source": [
    "---\n",
    "# Program Description\n",
    "\n",
    "I will develop code to anlyze X-ray spectrum and X-ray diffraction pattern to obtain information about materials. The main aim is to realize basic analysis functions that I mentioned above (for example: chemical composition, chemical bonding and crystal structure). Other complex analysis (for example: grain boundary anlysis) will be developed based on future needs.\n",
    "\n",
    "The input data will come from X-ray experiments. Output data will be about the crystal structure and chemical enviroments of atoms. If everything goes well, I will use the output to build more realistic atomic structure input file for molecular dynamics simulation. "
   ]
  },
  {
   "cell_type": "markdown",
   "metadata": {},
   "source": [
    "---\n",
    "# Project Goals and Timeline\n",
    "\n",
    "- 2/26/2021 - Stub functions and Example code integration (With documentation)\n",
    "    1. Create the list of functions I will build\n",
    "    2. Finish reading data and curve fitting function\n",
    "    3. Finish intensity calculation function\n",
    "\n",
    "- 3/12/2021 - Unit Test Integration\n",
    "    1. using data from experiments to test above functions\n",
    "\n",
    "- 3/25/2021 - Coding Standards and Linting\n",
    "    1. Finish Stereographic projection functions\n",
    "\n",
    "- 4/9/2021 - Code Review \n",
    "    1. Use data from experiments to test above functions\n",
    "\n",
    "- 4/16/2021 - Presentation Video Due\n",
    "    1. Make the presentation video\n",
    "\n",
    "- 4/23/2021 - Final Report and Code due.\n",
    "    1. finalize the code and report"
   ]
  },
  {
   "cell_type": "markdown",
   "metadata": {},
   "source": [
    "---\n",
    "# Anticipating Challenges  \n",
    "\n",
    "In the aspect of coding, I will need to learn how to use DAMASK (the Düsseldorf Advanced Material Simulation Kit) package in Python.\n",
    "\n",
    "I will also need to review and learn some knowledge about X-ray to build this tool.\n",
    "\n",
    "My projects will be written in Python.\n"
   ]
  }
 ],
 "metadata": {
  "anaconda-cloud": {},
  "kernelspec": {
   "display_name": "Python 3",
   "language": "python",
   "name": "python3"
  },
  "language_info": {
   "codemirror_mode": {
    "name": "ipython",
    "version": 3
   },
   "file_extension": ".py",
   "mimetype": "text/x-python",
   "name": "python",
   "nbconvert_exporter": "python",
   "pygments_lexer": "ipython3",
   "version": "3.7.5"
  }
 },
 "nbformat": 4,
 "nbformat_minor": 1
}
