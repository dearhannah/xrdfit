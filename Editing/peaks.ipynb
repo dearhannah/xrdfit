{
 "cells": [
  {
   "cell_type": "code",
   "execution_count": null,
   "metadata": {},
   "outputs": [],
   "source": [
    "def peakfinder(curve):\n",
    "    \"\"\"\n",
    "    This function is to find the positions of peaks in a curve.\n",
    "    I will set a minmum value for peak intensity, which means that this function may ignore some small peaks.\n",
    "    I will work on some make-ups.\n",
    "    \"\"\"\n",
    "    theta_peaks = [33.350,40.400,56.550]\n",
    "    return theta_peaks\n",
    "\n",
    "def peakindex(theta_peaks, wavelength, element):\n",
    "    \"\"\"\n",
    "    This function will index the peak, giving the hkl of the peak\n",
    "    This is for diffraction, but not for element characteristic curve. \n",
    "    So, this function is about structure information.\n",
    "    \"\"\"\n",
    "    index = np.random.randn(len(theta_peaks),3)\n",
    "    return index\n",
    "\n",
    "def abd_calculator(theta_peaks, wavelength, index):\n",
    "    \"\"\"\n",
    "    This function is to calculat the real lattice parameter from the experiments.\n",
    "    \"\"\"\n",
    "    return a,b,c"
   ]
  }
 ],
 "metadata": {
  "kernelspec": {
   "display_name": "Python 3",
   "language": "python",
   "name": "python3"
  },
  "language_info": {
   "codemirror_mode": {
    "name": "ipython",
    "version": 3
   },
   "file_extension": ".py",
   "mimetype": "text/x-python",
   "name": "python",
   "nbconvert_exporter": "python",
   "pygments_lexer": "ipython3",
   "version": "3.7.5"
  }
 },
 "nbformat": 4,
 "nbformat_minor": 4
}
