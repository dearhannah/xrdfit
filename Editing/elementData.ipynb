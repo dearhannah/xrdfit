{
 "cells": [
  {
   "cell_type": "code",
   "execution_count": null,
   "metadata": {},
   "outputs": [],
   "source": [
    "class element():\n",
    "    \"\"\"\n",
    "    This function is to give some often-used property of elements.\n",
    "    For now, it can provide lattice parameter, crystal structure.\n",
    "    \"\"\"\n",
    "    def crystal(ele):\n",
    "        \"\"\"\n",
    "        This method is to give the structure information.\n",
    "        \"\"\"\n",
    "        if ele == 'Cu' or 'cu':\n",
    "            a=3.597   #unit is A\n",
    "            cs = 'FCC'   #the name of crystal structure\n",
    "            print(\"The structure of {} is {}, and lattice parameter is {}.\".format(ele, cs, str(a)))\n",
    "        else:\n",
    "            a=0\n",
    "            cs = 'nope'\n",
    "            print(\"Our database is so small. It is time to add more element!\")\n",
    "        return cs,a\n",
    "    \n",
    "    def energy(ele):\n",
    "        \"\"\"\n",
    "        This function is to provide the charcteristic energy value.\n",
    "        \"\"\"\n",
    "        e = 3  #unit is eV\n",
    "        return e"
   ]
  }
 ],
 "metadata": {
  "kernelspec": {
   "display_name": "Python 3",
   "language": "python",
   "name": "python3"
  },
  "language_info": {
   "codemirror_mode": {
    "name": "ipython",
    "version": 3
   },
   "file_extension": ".py",
   "mimetype": "text/x-python",
   "name": "python",
   "nbconvert_exporter": "python",
   "pygments_lexer": "ipython3",
   "version": "3.7.5"
  }
 },
 "nbformat": 4,
 "nbformat_minor": 4
}
