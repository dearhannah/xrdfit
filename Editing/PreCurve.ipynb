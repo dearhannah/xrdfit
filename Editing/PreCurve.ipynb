{
 "cells": [
  {
   "cell_type": "code",
   "execution_count": null,
   "metadata": {},
   "outputs": [],
   "source": [
    "import numpy as np\n",
    "\n",
    "def clear(curve):\n",
    "    \"\"\"\n",
    "    This function is will delete the continuous background intensity and return a modified curve.\n",
    "    Generally, the continuous curve will be a constant through out the whole curve.\n",
    "    \"\"\"\n",
    "    curve_noBackground = np.random.randn(*curve.shape)\n",
    "    return curve_noBackground\n",
    "\n",
    "def smooth(curve):\n",
    "    \"\"\"\n",
    "    This function is to smooth the curve, so some small noise peak will not influence the accuracy of peak finding.\n",
    "    \"\"\"\n",
    "    curve_smooth = np.random.randn(*curve.shape)\n",
    "    return curve_smooth\n",
    "\n",
    "def picky(curve):\n",
    "    \"\"\"\n",
    "    This function is to tell whether the curve is too noisy to be deal with.\n",
    "    It will return 'True' or 'False\" based on some criteria. \n",
    "    If it returns 'false', it will plot the curve. \n",
    "    So this function will be very picky and will let user make decision on some special cases.\n",
    "    \"\"\"\n",
    "    return True"
   ]
  }
 ],
 "metadata": {
  "kernelspec": {
   "display_name": "Python 3",
   "language": "python",
   "name": "python3"
  },
  "language_info": {
   "codemirror_mode": {
    "name": "ipython",
    "version": 3
   },
   "file_extension": ".py",
   "mimetype": "text/x-python",
   "name": "python",
   "nbconvert_exporter": "python",
   "pygments_lexer": "ipython3",
   "version": "3.7.5"
  }
 },
 "nbformat": 4,
 "nbformat_minor": 4
}
