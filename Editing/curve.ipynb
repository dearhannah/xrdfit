{
 "cells": [
  {
   "cell_type": "code",
   "execution_count": null,
   "metadata": {},
   "outputs": [],
   "source": [
    "import numpy as np\n",
    "\n",
    "def curveread(curvetype,infilename):\n",
    "    \"\"\"\n",
    "    This function is to read data from xrd curve.\n",
    "    curvetype: 'character','continous','diffracton'.\n",
    "    infilename: the name of input file.\n",
    "    \"\"\"\n",
    "    StartAngle = 20\n",
    "    StopAngle = 46\n",
    "    NumPoints = 500\n",
    "    StepSize = 0.02\n",
    "    Wavelength = 1.540562\n",
    "    theta2 = np.random.rand(1, NumPoints)\n",
    "    intensity = np.random.rand(1,NumPoints)\n",
    "    return theta2,intensity"
   ]
  }
 ],
 "metadata": {
  "kernelspec": {
   "display_name": "Python 3",
   "language": "python",
   "name": "python3"
  },
  "language_info": {
   "codemirror_mode": {
    "name": "ipython",
    "version": 3
   },
   "file_extension": ".py",
   "mimetype": "text/x-python",
   "name": "python",
   "nbconvert_exporter": "python",
   "pygments_lexer": "ipython3",
   "version": "3.7.5"
  }
 },
 "nbformat": 4,
 "nbformat_minor": 4
}
