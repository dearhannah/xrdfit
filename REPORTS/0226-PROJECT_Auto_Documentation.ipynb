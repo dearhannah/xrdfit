{
 "cells": [
  {
   "cell_type": "markdown",
   "metadata": {},
   "source": [
    "# <center>Stub Functions and Automatic Documentation</center>\n",
    "\n",
    "<img src=\"https://pdoc3.github.io/pdoc/logo.png\" width=30% alt=\"pdoc3 logo\">\n"
   ]
  },
  {
   "cell_type": "markdown",
   "metadata": {},
   "source": [
    "The goal of this project is to solidify and document the major structure of your project code.  We will do this by adding stub functions (where needed) and using the [pdoc3 automatic documentation generator](https://pdoc3.github.io/pdoc/).  An automatic documentation generator takes comments formated in your Python source code and uses them to generate your project documentation.  This way you only need to change one set of files.  \n",
    "\n"
   ]
  },
  {
   "cell_type": "markdown",
   "metadata": {},
   "source": [
    "# Stubbing out your code\n",
    "\n",
    "A stub function in software development is like an outline used to stand in as a substitute before the details of the function can be completed.  Good stub functions are like a plan for what you want your code to do. It takes the expected inputs and returns outputs in the expected format.  \n",
    "\n",
    "For example, if you're planning to build an alarm for your freezer to let you know if the temperature gets too warm, you might write the following stubs."
   ]
  },
  {
   "cell_type": "code",
   "execution_count": null,
   "metadata": {},
   "outputs": [],
   "source": [
    "def ThermometerRead(myThermometer):\n",
    "    # This is where I will put the code to read from my thermometer.\n",
    "    return 4\n",
    "\n",
    "freezer = None\n",
    "temperature = ThermometerRead(freezer)\n",
    "if temperature > 10:\n",
    "    # Reminder to myself that the temperature should be in celsius. \n",
    "    print (\"Warning: The freezer might be broken\")\n"
   ]
  },
  {
   "cell_type": "markdown",
   "metadata": {},
   "source": [
    "As you can see, the code doesn't actually do what I want yet, but it will run, and I have the overall structure set up.  So, once I have my roadmap set up, I can go back and fill in the pieces. \n",
    "\n",
    "For this project we want to stub out the main structure of your programming interface.  How the functions are stubbed out will depend highly on your project.  The idea is to plan how you want the code functions and libraries to interact before writing in all of the details.  Good stubbing will make it much easier to incrementally develop and test your software.  "
   ]
  },
  {
   "cell_type": "markdown",
   "metadata": {},
   "source": [
    "&#9989; **<font color=red>DO THIS:</font>**  Stub out the main functions and classes for your code.  Commit your changes to your git repository."
   ]
  },
  {
   "cell_type": "markdown",
   "metadata": {},
   "source": [
    "# Docstrings\n",
    "\n",
    "The Python programming language has some standard ways that functions and classes should be documented.  Strings surrounded by triple quotes (\"\"\") located at the beginning of documents, functions and classes are used to document those items.  Consider the following example function:"
   ]
  },
  {
   "cell_type": "code",
   "execution_count": null,
   "metadata": {},
   "outputs": [],
   "source": [
    "def testfunction(a, b):\n",
    "    \"\"\"\n",
    "    This is a test function documentation\n",
    "    You can put your stuff here\n",
    "    \"\"\"\n",
    "    print(f\"running testfunction {a} {b}\")\n",
    "    return 0"
   ]
  },
  {
   "cell_type": "markdown",
   "metadata": {},
   "source": [
    "Docstrings are the primary way that Python uses to print ```help``` messages. For example:"
   ]
  },
  {
   "cell_type": "code",
   "execution_count": null,
   "metadata": {},
   "outputs": [],
   "source": [
    "help(testfunction)"
   ]
  },
  {
   "cell_type": "markdown",
   "metadata": {},
   "source": [
    "&#9989; **<font color=red>DO THIS:</font>**  Read the [PEP257](https://www.python.org/dev/peps/pep-0257/) standard and write docstrings for all of your files, functions and classes. Commit your changes to your git repository. (another good resource is  [this post on DocStrings](https://www.datacamp.com/community/tutorials/docstrings-python))"
   ]
  },
  {
   "cell_type": "markdown",
   "metadata": {},
   "source": [
    "&#9989; **<font color=red>DO THIS:</font>**  Install and use [```pydocstyle```](http://www.pydocstyle.org/) to check and ensure the documentation meets the PEP257 standard as best it can. Commit any additional changes to your git repository. See instructions in next section for example installation code. \n",
    "\n",
    "    conda install pydocstyle\n",
    "    pydocstyle modulename"
   ]
  },
  {
   "cell_type": "markdown",
   "metadata": {},
   "source": [
    "# Automatic Documentation using [```pdoc3```](https://pdoc3.github.io/pdoc/)\n",
    "\n",
    "The ```help``` function is not the only Python module that can take advantage of doc strings.  There are a class of programs called \"auto documentors\" that can read though code, organize the doc strings and output documentation for your software in a variety of formats (ex. pdf and html).  Probably the most famous of these is [Sphinx](http://www.sphinx-doc.org/).  However, ```Sphinx``` is really intended for large software projects and is a little overkill for our class project.  For this project we plan to use ```pdoc``` which is a much easier to use program and fully compatible with ```Sphinx```. Meaning we can use ```pdoc``` to organize our documentation and easily upgrade to ```Sphinx``` if/when that is deemed necessary.  \n",
    "\n",
    "**Notes:** \n",
    "- Although it is possible to get pdoc3 running on Jupyterhub the steps are much easier if you run from your local Anaconda install. We highly recommend using the local install.\n",
    "- There are many different programs for doing auto-documentation. If you have more experience with some other option, feel free to use something else. See a list of examples [here](https://wiki.python.org/moin/DocumentationTools) and some discussion of comparisons [here](https://medium.com/@peterkong/comparison-of-python-documentation-generators-660203ca3804). "
   ]
  },
  {
   "cell_type": "markdown",
   "metadata": {},
   "source": [
    "---\n",
    "<a name=\"Quick_pdoc3_practice\"></a>\n",
    "\n",
    "## pdoc3 install and (optional) practice \n",
    "\n",
    "Let's just try to get this working on some tester code. \n",
    "\n",
    "\n",
    "&#9989; **<font color=red>DO THIS:</font>** Install pdoc on your machine.  If you are using jupyterhub, use the following command in bash:\n",
    "\n",
    "\n",
    "```bash\n",
    "    pip install --user pdoc3\n",
    "```\n",
    "\n",
    "Or, if you prefer, you can use conda environments and install using the following:\n",
    "\n",
    "\n",
    "```bash\n",
    "    pip install pdoc3\n",
    "```\n",
    "\n",
    "**Warning:** Make sure you install ```pdoc3``` for use in your project.  Older versions of ```pdoc``` are much harder to use. \n",
    "\n",
    "Once pdoc3 is installed they may need to add \"~/.local/bin/\" to your terminal path. In jupyterhub I recommend adding the following to your .bashrc file and restarting the terminal:\n",
    "\n",
    "```bash\n",
    "    PATH=$PATH:~/.local/bin/\n",
    "```\n",
    "\n",
    "\n",
    "To test out the setup, try pdoc on a single python file. I have included a file called ```graphweb.py``` in the class repo for you to test this.\n",
    "```bash\n",
    "   pdoc3 --force --html --output-dir ./docs graphweb.py\n",
    "```\n",
    "\n",
    "\n",
    "Open up the docs folder using your file manager and click on one of the html files to see the output displayed in your internet browser."
   ]
  },
  {
   "cell_type": "markdown",
   "metadata": {},
   "source": [
    "Here is the main command to get pdoc working:\n",
    "\n",
    "    pdoc --force --html --output-dir ./docs modulename"
   ]
  },
  {
   "cell_type": "markdown",
   "metadata": {},
   "source": [
    "&#9989; **<font color=red>DO THIS:</font>** Get ```pdoc3``` working with your project code and generate html files in a docs folder using the above.  Commit the html files to the folder and push all of your changes to your git central repository. **_HINT_** Use the ```make docs``` command to run pdoc3 on your repository."
   ]
  },
  {
   "cell_type": "markdown",
   "metadata": {},
   "source": [
    "# Publishing on Github.io (Optional)\n",
    " \n",
    "Note, using [github](https://github.com/) is **_NOT_** required for this project.  However, github has a interesting option to make a website out of html files committed to a repository.  These webpages appear for free on github.io.  Make your own project website by doing the following steps:\n",
    "\n",
    "1. Generate your html files in your doc folder.\n",
    "2. Commit and push all of the generated html files to your git repository. \n",
    "3. Go to http://github.com project folder and select settings.\n",
    "4. Under the \"GitHub Pages\" section in settings select \"main branch /docs folder.\" \n",
    "5. Wait a few minutes and go to `username.github.io/projectname` and view your pages. "
   ]
  },
  {
   "cell_type": "markdown",
   "metadata": {},
   "source": [
    "---\n",
    "### Getting credit for your assignment\n",
    "\n",
    "Now, you just need to commit and push this report to your project git repository. Your instructor will download your repository and check your automatic documentation using the ```make docs``` command so make sure that is working. "
   ]
  },
  {
   "cell_type": "markdown",
   "metadata": {},
   "source": [
    "-----\n",
    "### Congratulations, you are done!"
   ]
  }
 ],
 "metadata": {
  "anaconda-cloud": {},
  "kernelspec": {
   "display_name": "Python 3",
   "language": "python",
   "name": "python3"
  },
  "language_info": {
   "codemirror_mode": {
    "name": "ipython",
    "version": 3
   },
   "file_extension": ".py",
   "mimetype": "text/x-python",
   "name": "python",
   "nbconvert_exporter": "python",
   "pygments_lexer": "ipython3",
   "version": "3.7.9"
  }
 },
 "nbformat": 4,
 "nbformat_minor": 1
}
