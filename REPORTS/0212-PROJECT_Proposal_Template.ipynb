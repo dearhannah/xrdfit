{
 "cells": [
  {
   "cell_type": "markdown",
   "metadata": {},
   "source": [
    "# <center> XRD_analysis_packages </center>\n",
    "\n",
    "<center>By Han Meng</center>"
   ]
  },
  {
   "cell_type": "markdown",
   "metadata": {},
   "source": [
    "<img src=\"https://upload.wikimedia.org/wikipedia/commons/thumb/7/73/X_ray_diffraction.png/1024px-X_ray_diffraction.png\" width=\"50%\">\n",
    "\n",
    "Image from: https://upload.wikimedia.org/wikipedia/commons/thumb/7/73/X_ray_diffraction.png/1024px-X_ray_diffraction.png"
   ]
  },
  {
   "cell_type": "markdown",
   "metadata": {},
   "source": [
    "---\n",
    "# Overview\n",
    "\n",
    "XRD (X-ray diffraction) is a technique that is widely used to study the structure of materials.\n",
    "\n",
    "Many materials are crystalline solid. In those materials, atoms (or molecules and ions) are arranged in a highly ordered manner and repeat units called unit cell will be formed. One unit cell usually has less than 5 atoms and the whole crystalline solid is composed of repeated unit cells extending in all directions. This will result in a long-range order which we difined as crystal lattice. Different materials have different crystal lattice and will lead to different X-ray diffraction pattern.\n",
    "\n",
    "X-ray are photons (light) with wavelength in the range from 10 picometers to 10 nanometers. When X-ray photons go into materials, they will scatter and form constructive or destructive interference with other photons because of the change of relative phase position. As a result, the intensity of outgoign X-ray will change. If we collect outgoing X-ray in different directions, and plot the curve with y being light intensity and x being theta, we will see a pattern with some peaks. \n",
    "\n",
    "The position of these peaks are directly related to wavelength of X-ray, lattice parameter and orientation of crystal. So it is possible to learn about the crystal structure of a materials by analyze its XRD spextrum."
   ]
  },
  {
   "cell_type": "markdown",
   "metadata": {},
   "source": [
    "---\n",
    "# Program Description\n",
    "\n",
    "In this program, I developde a set of tools to analyse the X-ray diffraction spectrum.\n",
    "\n",
    "First of all, my code can read data files and plot the corresponding spectrums. The inputs are usually txt files, which saved thetas and the corresponding light intensities (usually called counts per second (CPS) because intensity is measured by counting the number of phonons).\n",
    "\n",
    "Second, I can prepare the data for future analysis through the following steps:\n",
    "1. clear the background.\n",
    "2. smooth the curve (or fitting the curve).\n",
    "3. label the data if it is not reliable.\n",
    "\n",
    "Finally, I can do common analysis of spectrums:\n",
    "1. find the peaks and label them.\n",
    "2. calculate the lattice parameter. "
   ]
  },
  {
   "cell_type": "markdown",
   "metadata": {},
   "source": [
    "---\n",
    "# Project Goals and Timeline\n",
    "\n",
    "- 2/26/2021 - Stub functions and Example code integration (With documentation)\n",
    "    1. Create the list of functions I will build\n",
    "    2. Finish reading data and curve fitting function\n",
    "    3. Finish intensity calculation function\n",
    "\n",
    "- 3/12/2021 - Unit Test Integration\n",
    "    1. using data from experiments to test above functions\n",
    "\n",
    "- 3/25/2021 - Coding Standards and Linting\n",
    "    1. Finish Stereographic projection functions\n",
    "\n",
    "- 4/9/2021 - Code Review \n",
    "    1. Use data from experiments to test above functions\n",
    "\n",
    "- 4/16/2021 - Presentation Video Due\n",
    "    1. Make the presentation video\n",
    "\n",
    "- 4/23/2021 - Final Report and Code due.\n",
    "    1. finalize the code and report"
   ]
  },
  {
   "cell_type": "markdown",
   "metadata": {},
   "source": [
    "---\n",
    "# Anticipating Challenges  \n",
    "\n",
    "In the aspect of coding, I will need to learn how to use lmfit.models.PseudoVoigtModel module in Python.\n",
    "\n",
    "I will also need to review and learn some knowledge about X-ray to build this tool.\n",
    "\n",
    "My projects will be written in Python."
   ]
  },
  {
   "cell_type": "code",
   "execution_count": null,
   "metadata": {},
   "outputs": [],
   "source": []
  }
 ],
 "metadata": {
  "anaconda-cloud": {},
  "kernelspec": {
   "display_name": "Python 3",
   "language": "python",
   "name": "python3"
  },
  "language_info": {
   "codemirror_mode": {
    "name": "ipython",
    "version": 3
   },
   "file_extension": ".py",
   "mimetype": "text/x-python",
   "name": "python",
   "nbconvert_exporter": "python",
   "pygments_lexer": "ipython3",
   "version": "3.7.4"
  }
 },
 "nbformat": 4,
 "nbformat_minor": 1
}
